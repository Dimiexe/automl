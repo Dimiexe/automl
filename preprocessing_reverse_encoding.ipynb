{
 "cells": [
  {
   "cell_type": "code",
   "execution_count": null,
   "metadata": {},
   "outputs": [],
   "source": [
    "import csv\n",
    "import pandas as pd\n",
    "import numpy as np\n",
    "import os\n",
    "import arff\n",
    "import re\n",
    "import codecs\n",
    "path_to_dataset_folder = 'C:/Users/Dimiexe/Desktop/DATAsets'\n",
    "path_to_ready_csv = path_to_dataset_folder + '/DATA/CSVs'\n",
    "path_encoded_csv = path_to_dataset_folder + '/DATA/CSVs_reverse_encoded'"
   ]
  },
  {
   "cell_type": "code",
   "execution_count": null,
   "metadata": {},
   "outputs": [],
   "source": [
    "file = \"OnlineNewsPopularity.csv\"\n",
    "df = pd.read_table(path_to_ready_csv + '/'+ file,sep=',')df.iloc[120:128,12:18]"
   ]
  },
  {
   "cell_type": "code",
   "execution_count": null,
   "metadata": {},
   "outputs": [],
   "source": [
    "types = df.dtypes\n",
    "cardi = df.apply(pd.Series.nunique)\n",
    "df2=pd.DataFrame({'Types': types,\n",
    "                  'Cardinality': cardi})\n",
    "df2.head(10)"
   ]
  },
  {
   "cell_type": "code",
   "execution_count": null,
   "metadata": {
    "scrolled": false
   },
   "outputs": [],
   "source": [
    "#This is used to turn int-encoded features into str-encoded ones. This is desired\n",
    "#because the str type is automatically recognised as categorical (enum) by H2O later.\n",
    "#Set the variable 'features' to contain the int-encoded features to transform.\n",
    "features = [\"target_class\"]\n",
    "for target_feature in features:\n",
    "    value_df = df[target_feature].value_counts(dropna=True).rename_axis('unique_values',axis=0).reset_index(name='value_counts',drop=False)\n",
    "    value_df.sort_values(by='unique_values',inplace=True)\n",
    "    value_df.reset_index(drop=True,inplace=True)\n",
    "    lim = value_df.shape[0]\n",
    "    replace_dict = {}\n",
    "    for i in range(lim):\n",
    "        replace_dict[ value_df.loc[i,'unique_values'] ] = 'Level_'+str(i)\n",
    "    replace_dict = {target_feature : replace_dict}\n",
    "\n",
    "    df.replace(to_replace = replace_dict, inplace=True, value=None)\n",
    "df.head(10)"
   ]
  },
  {
   "cell_type": "code",
   "execution_count": null,
   "metadata": {},
   "outputs": [],
   "source": [
    "#Used to REVERSE ONE HOT ENCODING of the \"invOneHotFeatures\" CONSECUTIVE-features' vector,\n",
    "#creating a new column with the name given in ~~~HERE_1~~~. A check is made if every feature\n",
    "#belongs to exactly one category. If not, this is not usable, and that case needs to be dealt\n",
    "#with manually. The values of the new column can be default (categoricals) if \"autoValues\" == 1,\n",
    "#or manually defined IN THE CODE (~~~HERE_2~~~) for autoValues == 0.\n",
    "\n",
    "invOneHotFeatures = list(range(12,18)) #Consecutive feature indices\n",
    "#invOneHotFeatures = [2,8,12] #Separate features indices\n",
    "autoValues = 0\n",
    "df2=df.iloc[:,invOneHotFeatures]\n",
    "ser = df2.sum(axis=1)\n",
    "if len(ser[ser != 0]) == df.shape[0]:\n",
    "    if ser[ser!=1].sum() == 0:\n",
    "        reverse_enc = []\n",
    "        for x in range(df.shape[0]):\n",
    "            for feat in invOneHotFeatures:\n",
    "                if df.iloc[x,feat] == 1:\n",
    "                    if autoValues == 0:\n",
    "                        #~~~HERE_2~~~\n",
    "                        #Manual definition of values in the new column.\n",
    "                        reverse_enc.append(df.columns.values[feat].split('_')[-1])\n",
    "                    elif autoValues == 1:\n",
    "                        #Automated value assignement as \"value_0, value_1\" etc.\n",
    "                        reverse_enc.append('value_'+str(feat-min(invOneHotFeatures)))\n",
    "                    break\n",
    "        #~~~HERE_1~~~\n",
    "        df=df.assign(type_of_channel=reverse_enc)\n",
    "        df.drop(df.columns.values[invOneHotFeatures],axis=1,inplace=True)\n",
    "        print(df.head(10))\n",
    "    else:\n",
    "        print('Not all features belong exclusively to one category!')\n",
    "else:\n",
    "    print(str(len(ser[ser == 0])) + ' out of '+ str(df.shape[0]) +' features ('+ str(round(len(ser[ser == 0])/df.shape[0]*10000)/100) +'%) belong to NO category!')"
   ]
  },
  {
   "cell_type": "code",
   "execution_count": null,
   "metadata": {},
   "outputs": [],
   "source": [
    "#Used to drop problematic rows detected above.\n",
    "df2=df.iloc[:,invOneHotFeatures]\n",
    "ser = df2.sum(axis=1)\n",
    "df.drop(ser[ser == 0].index,axis=0,inplace=True)"
   ]
  },
  {
   "cell_type": "code",
   "execution_count": null,
   "metadata": {},
   "outputs": [],
   "source": [
    "df.to_csv(path_encoded_csv + '/'+ file,index= False)"
   ]
  }
 ],
 "metadata": {
  "kernelspec": {
   "display_name": "Python 3",
   "language": "python",
   "name": "python3"
  },
  "language_info": {
   "codemirror_mode": {
    "name": "ipython",
    "version": 3
   },
   "file_extension": ".py",
   "mimetype": "text/x-python",
   "name": "python",
   "nbconvert_exporter": "python",
   "pygments_lexer": "ipython3",
   "version": "3.7.5"
  }
 },
 "nbformat": 4,
 "nbformat_minor": 2
}
